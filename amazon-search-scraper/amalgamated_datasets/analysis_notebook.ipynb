{
 "cells": [
  {
   "cell_type": "code",
   "execution_count": 1,
   "id": "2a0fb700",
   "metadata": {},
   "outputs": [],
   "source": [
    "import numpy as np\n",
    "import pandas as pd\n",
    "import matplotlib.pyplot as plt"
   ]
  },
  {
   "cell_type": "code",
   "execution_count": 37,
   "id": "1ae291c8",
   "metadata": {},
   "outputs": [
    {
     "name": "stdout",
     "output_type": "stream",
     "text": [
      "[+] Imported to a DataFrame\n"
     ]
    }
   ],
   "source": [
    "df = pd.read_csv(\"amalgamated_data.csv.csv\")\n",
    "print(\"[+] Imported to a DataFrame\")"
   ]
  },
  {
   "cell_type": "code",
   "execution_count": 38,
   "id": "ca94fe3b",
   "metadata": {},
   "outputs": [
    {
     "name": "stdout",
     "output_type": "stream",
     "text": [
      "[+] Unique values in column: ['27.99' '18.71' '18.20' ... '413.01' '145.38' '96.53']\n",
      "[+] Data type of column: object\n",
      "[+] Data Cleaned\n"
     ]
    }
   ],
   "source": [
    "y_coord_column = \"search_result_y_coord\"\n",
    "x_coord_column = \"search_result_x_coord\"\n",
    "price_column = \"current_price\"\n",
    "average_rating_column = \"average_rating\"\n",
    "review_count_column = \"no_of_reviews\"\n",
    "\n",
    "#df[price_column] = df[price_column].str.replace('$', '', regex=False)\n",
    "df[price_column] = df[price_column].str.replace('[^0-9\\.]+', '', regex=True)\n",
    "df[review_count_column] = df[review_count_column].str.replace(\"-\",\"\", regex=False)\n",
    "\n",
    "df[price_column] = pd.to_numeric(df[price_column], errors='coerce')\n",
    "df[y_coord_column] = pd.to_numeric(df[y_coord_column], errors='coerce')\n",
    "df[x_coord_column] = pd.to_numeric(df[x_coord_column], errors='coerce')\n",
    "df[review_count_column] = pd.to_numeric(df[review_count_column], errors='coerce')\n",
    "df[average_rating_column] = pd.to_numeric(df[average_rating_column], errors=\"coerce\")\n",
    "\n",
    "columns = [average_rating_column, review_count_column, y_coord_column, x_coord_column, price_column]\n",
    "df = df.dropna(subset=columns)\n",
    "\n",
    "print(\"[+] Data Cleaned\")"
   ]
  },
  {
   "cell_type": "code",
   "execution_count": 40,
   "id": "f442e584",
   "metadata": {},
   "outputs": [
    {
     "name": "stdout",
     "output_type": "stream",
     "text": [
      "float64\n",
      "[+] average_rating Length: + 657926\n",
      "[+] average_ratingMinimum: 1.0\n",
      "[+] average_ratingMaximum: 5.0\n",
      "[+] Summary statistics for average_rating: \n",
      "count    657926.000000\n",
      "mean          4.466994\n",
      "std           0.357264\n",
      "min           1.000000\n",
      "25%           4.300000\n",
      "50%           4.500000\n",
      "75%           4.700000\n",
      "max           5.000000\n",
      "Name: average_rating, dtype: float64\n",
      "[+] Unique values in average_rating: [4.8 4.7 4.6 4.5 4.3 3.2 4.4 4.1 4.2 4.9 3.3 5.  3.7 3.8 3.9 3.5 3.4 4.\n",
      " 3.  2.5 3.6 1.  2.7 3.1 2.8 2.  2.9 2.1 2.6 1.7 1.8 2.4 2.3 1.4 1.6 1.9\n",
      " 1.5 1.3 2.2 1.2]\n",
      "[+] Data type of average_rating: float64\n",
      "float64\n",
      "[+] no_of_reviews Length: + 657926\n",
      "[+] no_of_reviewsMinimum: 1.0\n",
      "[+] no_of_reviewsMaximum: 1019792.0\n",
      "[+] Summary statistics for no_of_reviews: \n",
      "count    6.579260e+05\n",
      "mean     6.166682e+03\n",
      "std      2.468245e+04\n",
      "min      1.000000e+00\n",
      "25%      1.040000e+02\n",
      "50%      7.410000e+02\n",
      "75%      3.931000e+03\n",
      "max      1.019792e+06\n",
      "Name: no_of_reviews, dtype: float64\n",
      "[+] Unique values in no_of_reviews: [ 7423. 18030.  7929. ... 32858. 17176. 38904.]\n",
      "[+] Data type of no_of_reviews: float64\n",
      "float64\n",
      "[+] search_result_y_coord Length: + 657926\n",
      "[+] search_result_y_coordMinimum: 183.0\n",
      "[+] search_result_y_coordMaximum: 19723.0\n",
      "[+] Summary statistics for search_result_y_coord: \n",
      "count    657926.000000\n",
      "mean       5430.018119\n",
      "std        3230.383752\n",
      "min         183.000000\n",
      "25%        2657.000000\n",
      "50%        5202.000000\n",
      "75%        7806.000000\n",
      "max       19723.000000\n",
      "Name: search_result_y_coord, dtype: float64\n",
      "[+] Unique values in search_result_y_coord: [ 8951.  9616.   554. ...   567.   498. 11247.]\n",
      "[+] Data type of search_result_y_coord: float64\n",
      "float64\n",
      "[+] search_result_x_coord Length: + 657926\n",
      "[+] search_result_x_coordMinimum: 266.0\n",
      "[+] search_result_x_coordMaximum: 1354.0\n",
      "[+] Summary statistics for search_result_x_coord: \n",
      "count    657926.000000\n",
      "mean        659.217309\n",
      "std         317.698230\n",
      "min         266.000000\n",
      "25%         284.000000\n",
      "50%         551.000000\n",
      "75%         819.000000\n",
      "max        1354.000000\n",
      "Name: search_result_x_coord, dtype: float64\n",
      "[+] Unique values in search_result_x_coord: [ 284.  551.  819. 1086. 1354.  266.  517.  767. 1018.]\n",
      "[+] Data type of search_result_x_coord: float64\n",
      "float64\n",
      "[+] current_price Length: + 657926\n",
      "[+] current_priceMinimum: 0.0\n",
      "[+] current_priceMaximum: 163793.69\n",
      "[+] Summary statistics for current_price: \n",
      "count    657926.000000\n",
      "mean         73.944905\n",
      "std         380.898146\n",
      "min           0.000000\n",
      "25%          14.950000\n",
      "50%          24.990000\n",
      "75%          49.950000\n",
      "max      163793.690000\n",
      "Name: current_price, dtype: float64\n",
      "[+] Unique values in current_price: [ 27.99  18.71  18.2  ... 413.01 145.38  96.53]\n",
      "[+] Data type of current_price: float64\n"
     ]
    }
   ],
   "source": [
    "for column in columns:    \n",
    "    print(df[column].dtype)\n",
    "    print(\"[+] \" + str(column) + \" Length: + \" + str(len(df[column])))\n",
    "    print(\"[+] \"+ str(column) + \"Minimum: \" + str(df[column].min()))\n",
    "    print(\"[+] \"+ str(column) +\"Maximum: \" + str(df[column].max()))\n",
    "\n",
    "    # Confirm changes by checking summary statistics\n",
    "    print(\"[+] Summary statistics for \"+ str(column)+\": \")\n",
    "    print(df[column].describe())\n",
    "\n",
    "    # Check for unexpected values and data types\n",
    "    print(\"[+] Unique values in \"+ str(column)+\": \" + str(df[column].unique()))\n",
    "    print(\"[+] Data type of \"+ str(column)+\": \" + str(df[column].dtype))\n"
   ]
  },
  {
   "cell_type": "code",
   "execution_count": 42,
   "id": "38336efb",
   "metadata": {},
   "outputs": [
    {
     "name": "stdout",
     "output_type": "stream",
     "text": [
      "[+] Calculated Distance and Rank Columns\n"
     ]
    }
   ],
   "source": [
    "distance_column = \"distance\"\n",
    "rank_column = \"rank\"\n",
    "\n",
    "df[distance_column] = np.sqrt(df[x_coord_column]**2 + df[y_coord_column]**2)\n",
    "df[rank_column] = df.groupby('search_term')['distance'].rank(method='first')\n",
    "print(\"[+] Calculated Distance and Rank Columns\")\n"
   ]
  },
  {
   "cell_type": "code",
   "execution_count": null,
   "id": "7a8803e0",
   "metadata": {},
   "outputs": [],
   "source": []
  }
 ],
 "metadata": {
  "kernelspec": {
   "display_name": "Python 3 (ipykernel)",
   "language": "python",
   "name": "python3"
  },
  "language_info": {
   "codemirror_mode": {
    "name": "ipython",
    "version": 3
   },
   "file_extension": ".py",
   "mimetype": "text/x-python",
   "name": "python",
   "nbconvert_exporter": "python",
   "pygments_lexer": "ipython3",
   "version": "3.10.4"
  }
 },
 "nbformat": 4,
 "nbformat_minor": 5
}
